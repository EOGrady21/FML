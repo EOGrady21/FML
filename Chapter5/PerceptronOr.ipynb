{
 "cells": [
  {
   "cell_type": "code",
   "execution_count": null,
   "metadata": {},
   "outputs": [],
   "source": [
    "import numpy as np\n",
    "import matplotlib.pyplot as plt\n",
    "\n",
    "X=np.array([[0,0,1,1],\n",
    "            [0,1,0,1],\n",
    "            [1,1,1,1]])\n",
    "Y=np.array([[0,1,1,1]])\n",
    "\n",
    "# model specifications\n",
    "Ni=3; No=1;\n",
    "\n",
    "#parameter and array initialization\n",
    "Ntrials=100\n",
    "wo=np.random.randn(No,Ni); dwo=np.zeros(wo.shape) \n",
    "error1=np.array([])\n",
    "error2=np.array([])\n",
    "\n",
    "for trial in range(Ntrials):     \n",
    "    y=1/(1+np.exp(-wo@X)) #output for all pattern\n",
    "    do=y*(1-y)*(Y-y)  # delta output\n",
    "    # update weights with momentum\n",
    "    dwo=0.9*dwo+do@X.T\n",
    "    wo=wo+0.5*dwo\n",
    "    error1=np.append(error1,np.sum((Y-y)**2))\n",
    "    error2=np.append(error2,np.sum(1-(abs(Y-y)<0.1)))\n",
    "    "
   ]
  },
  {
   "cell_type": "code",
   "execution_count": null,
   "metadata": {},
   "outputs": [],
   "source": [
    "plt.rcParams.update({'font.size': 20})\n",
    "plt.xlabel(\"Iteration\")\n",
    "plt.ylabel(\"Absolute difference\")\n",
    "plt.plot(error1)\n",
    "plt.plot(error2)"
   ]
  },
  {
   "cell_type": "code",
   "execution_count": null,
   "metadata": {},
   "outputs": [],
   "source": [
    "# online version"
   ]
  },
  {
   "cell_type": "code",
   "execution_count": null,
   "metadata": {},
   "outputs": [],
   "source": [
    "#parameter and array initialization\n",
    "Ntrials=400\n",
    "wo=np.random.randn(No,Ni); dwo=np.zeros(wo.shape) \n",
    "error=np.array([])\n",
    "\n",
    "for trial in range(Ntrials): \n",
    "    i=np.random.randint(0,4)\n",
    "    y=1/(1+np.exp(-wo@X[:,i])) #output for one pattern\n",
    "    do=y*(1-y)*(Y[:,i]-y)  # delta output\n",
    "    # update weights with momentum\n",
    "    dwo=0.9*dwo+np.outer(do,X[:,i])\n",
    "    wo=wo+0.5*dwo\n",
    "    error=np.append(error,np.sum((Y-1/(1+np.exp(-wo@X)))**2))"
   ]
  },
  {
   "cell_type": "code",
   "execution_count": null,
   "metadata": {},
   "outputs": [],
   "source": [
    "plt.xlabel(\"Iteration\")\n",
    "plt.ylabel(\"Absolute difference\")\n",
    "plt.plot(error)"
   ]
  },
  {
   "cell_type": "code",
   "execution_count": null,
   "metadata": {},
   "outputs": [],
   "source": []
  }
 ],
 "metadata": {
  "kernelspec": {
   "display_name": "Python 3 (ipykernel)",
   "language": "python",
   "name": "python3"
  },
  "language_info": {
   "codemirror_mode": {
    "name": "ipython",
    "version": 3
   },
   "file_extension": ".py",
   "mimetype": "text/x-python",
   "name": "python",
   "nbconvert_exporter": "python",
   "pygments_lexer": "ipython3",
   "version": "3.11.7"
  }
 },
 "nbformat": 4,
 "nbformat_minor": 4
}
